{
 "cells": [
  {
   "cell_type": "markdown",
   "metadata": {},
   "source": [
    "# Proyek Akhir Kelompok 9\n",
    "\n",
    "### Tema : Prediksi Indeks Pencemaran Lingkungan DKI Jakarta\n",
    "\n",
    "- I Wayan Krisna Gita Santika\n",
    "- Eka Agustina\n",
    "- Slamet Mahendra\n"
   ]
  },
  {
   "cell_type": "markdown",
   "metadata": {},
   "source": [
    "### Import Library"
   ]
  },
  {
   "cell_type": "code",
   "execution_count": 1,
   "metadata": {},
   "outputs": [],
   "source": [
    "import pandas as pd\n",
    "import numpy as np\n",
    "import matplotlib.pyplot as plt\n",
    "import seaborn as sns\n",
    "import warnings\n",
    "warnings.filterwarnings('ignore') "
   ]
  },
  {
   "cell_type": "markdown",
   "metadata": {},
   "source": [
    "### Load Data"
   ]
  },
  {
   "cell_type": "markdown",
   "metadata": {},
   "source": [
    "Data diambil dari https://data.jakarta.go.id/dataset/indeks-standar-pencemaran-udara-ispu-tahun-2020"
   ]
  },
  {
   "cell_type": "code",
   "execution_count": 2,
   "metadata": {},
   "outputs": [],
   "source": [
    "data_train = pd.read_csv('clean_data_train.csv')\n",
    "data_test = pd.read_csv('clean_data_test.csv')"
   ]
  },
  {
   "cell_type": "code",
   "execution_count": 3,
   "metadata": {},
   "outputs": [
    {
     "data": {
      "text/plain": [
       "(2358, 9)"
      ]
     },
     "execution_count": 3,
     "metadata": {},
     "output_type": "execute_result"
    }
   ],
   "source": [
    "data_train.shape"
   ]
  },
  {
   "cell_type": "code",
   "execution_count": 4,
   "metadata": {},
   "outputs": [
    {
     "data": {
      "text/plain": [
       "(260, 9)"
      ]
     },
     "execution_count": 4,
     "metadata": {},
     "output_type": "execute_result"
    }
   ],
   "source": [
    "data_test.shape"
   ]
  },
  {
   "cell_type": "markdown",
   "metadata": {},
   "source": [
    "Keterangan Fitur dan Label\n",
    "\n",
    "1. tanggal : Tanggal pengukuran kualitas udara\n",
    "2. stasiun : Lokasi pengukuran di stasiun\n",
    "3. pm10 : Partikulat salah satu parameter yang diukur\n",
    "4. so2 : Sulfida (dalam bentuk SO2) salah satu parameter yang diukur\n",
    "5. co : Carbon Monoksida salah satu parameter yand diukur\n",
    "6. o3 : Ozon salah satu parameter yang diukur\n",
    "7. no2 : NItrogen dioksida salah satu parameter yang diukur\n",
    "8. max : Nilai ukur paling tinggi dari seluruh parameter yang diukur dalam waktu yang sama\n",
    "9. critical : Parameter yang hasil pengukurannya paling tinggi\n",
    "10. categori : Kategori hasil perhitungan indeks standar pencemaran udara"
   ]
  },
  {
   "cell_type": "code",
   "execution_count": 5,
   "metadata": {},
   "outputs": [],
   "source": [
    "data_train_values = data_train.values"
   ]
  },
  {
   "cell_type": "code",
   "execution_count": 6,
   "metadata": {},
   "outputs": [],
   "source": [
    "#Split data menjadi X_train,y_train\n",
    "X_train, y_train = data_train_values[:, :-1], data_train_values[:, -1]"
   ]
  },
  {
   "cell_type": "code",
   "execution_count": 7,
   "metadata": {},
   "outputs": [],
   "source": [
    "data_test_values = data_test.values"
   ]
  },
  {
   "cell_type": "code",
   "execution_count": 8,
   "metadata": {},
   "outputs": [],
   "source": [
    "#Split data menjadi X_test,y_test\n",
    "X_test, y_test = data_test_values[:, :-1], data_test_values[:, -1]"
   ]
  },
  {
   "cell_type": "code",
   "execution_count": 9,
   "metadata": {},
   "outputs": [],
   "source": [
    "# Import libarary Logistic Regression\n",
    "from sklearn.linear_model import LogisticRegression\n",
    "\n",
    "from sklearn import linear_model\n",
    "from sklearn.linear_model import SGDClassifier\n",
    "\n",
    "# Import libarary KNN\n",
    "from sklearn.neighbors import KNeighborsClassifier\n",
    "\n",
    "# Import libarary Support Vector Machines dan linier Support Vector Machines\n",
    "from sklearn.svm import LinearSVC\n",
    "\n",
    "# Import libarary Gaussian Naive Bayes\n",
    "from sklearn.naive_bayes import GaussianNB"
   ]
  },
  {
   "cell_type": "code",
   "execution_count": 10,
   "metadata": {},
   "outputs": [],
   "source": [
    "# Import libarary confusion matrix\n",
    "from sklearn.metrics import confusion_matrix\n",
    "\n",
    "from sklearn.metrics import accuracy_score ,precision_score,recall_score,f1_score"
   ]
  },
  {
   "cell_type": "code",
   "execution_count": 11,
   "metadata": {},
   "outputs": [
    {
     "name": "stdout",
     "output_type": "stream",
     "text": [
      "Confusion matrix for Naive Bayes\n",
      " [[ 29   0  15]\n",
      " [  0   8   1]\n",
      " [ 17   4 186]]\n",
      "accuracy_Naive Bayes: 0.858\n",
      "precision_Naive Bayes: 0.858\n",
      "recall_Naive Bayes: 0.858\n",
      "f1-score_Naive Bayes : 0.858\n"
     ]
    }
   ],
   "source": [
    "gaussian = GaussianNB()\n",
    "gaussian.fit(X_train, y_train)\n",
    "Y_pred = gaussian.predict(X_test) \n",
    "accuracy_nb=round(accuracy_score(y_test,Y_pred)* 100, 2)\n",
    "acc_gaussian = round(gaussian.score(X_train, y_train) * 100, 2)\n",
    "\n",
    "cm = confusion_matrix(y_test, Y_pred)\n",
    "accuracy = accuracy_score(y_test,Y_pred)\n",
    "precision = precision_score(y_test, Y_pred,average='micro')\n",
    "recall =  recall_score(y_test, Y_pred,average='micro')\n",
    "f1 = f1_score(y_test,Y_pred,average='micro')\n",
    "print('Confusion matrix for Naive Bayes\\n',cm)\n",
    "print('accuracy_Naive Bayes: %.3f' %accuracy)\n",
    "print('precision_Naive Bayes: %.3f' %precision)\n",
    "print('recall_Naive Bayes: %.3f' %recall)\n",
    "print('f1-score_Naive Bayes : %.3f' %f1)"
   ]
  },
  {
   "cell_type": "code",
   "execution_count": 12,
   "metadata": {},
   "outputs": [
    {
     "name": "stdout",
     "output_type": "stream",
     "text": [
      "Confusion matrix for Logistic Regression\n",
      " [[ 34   0  10]\n",
      " [  0   7   2]\n",
      " [ 62   2 143]]\n",
      "accuracy_Logistic Regression : 0.708\n",
      "precision_Logistic Regression : 0.708\n",
      "recall_Logistic Regression: 0.708\n",
      "f1-score_Logistic Regression : 0.708\n"
     ]
    }
   ],
   "source": [
    "logreg = LogisticRegression(solver= 'lbfgs',max_iter=400)\n",
    "logreg.fit(X_train, y_train)\n",
    "Y_pred = logreg.predict(X_test)\n",
    "accuracy_lr=round(accuracy_score(y_test,Y_pred)* 100, 2)\n",
    "acc_log = round(logreg.score(X_train, y_train) * 100, 2)\n",
    "\n",
    "\n",
    "cm = confusion_matrix(y_test, Y_pred)\n",
    "accuracy = accuracy_score(y_test,Y_pred)\n",
    "precision = precision_score(y_test, Y_pred,average='micro')\n",
    "recall = recall_score(y_test, Y_pred,average='micro')\n",
    "f1 = f1_score(y_test,Y_pred,average='micro')\n",
    "print('Confusion matrix for Logistic Regression\\n',cm)\n",
    "print('accuracy_Logistic Regression : %.3f' %accuracy)\n",
    "print('precision_Logistic Regression : %.3f' %precision)\n",
    "print('recall_Logistic Regression: %.3f' %recall)\n",
    "print('f1-score_Logistic Regression : %.3f' %f1)"
   ]
  },
  {
   "cell_type": "code",
   "execution_count": 13,
   "metadata": {},
   "outputs": [
    {
     "name": "stdout",
     "output_type": "stream",
     "text": [
      "Confusion matrix for SVC\n",
      " [[ 34   0  10]\n",
      " [  0   9   0]\n",
      " [ 77   7 123]]\n",
      "accuracy_SVC: 0.638\n",
      "precision_SVC: 0.638\n",
      "recall_SVC: 0.638\n",
      "f1-score_SVC : 0.638\n"
     ]
    }
   ],
   "source": [
    "linear_svc = LinearSVC(max_iter=4000)\n",
    "linear_svc.fit(X_train, y_train)\n",
    "Y_pred = linear_svc.predict(X_test)\n",
    "accuracy_svc=round(accuracy_score(y_test,Y_pred)* 100, 2)\n",
    "acc_linear_svc = round(linear_svc.score(X_train, y_train) * 100, 2)\n",
    "\n",
    "cm = confusion_matrix(y_test, Y_pred)\n",
    "accuracy = accuracy_score(y_test,Y_pred)\n",
    "precision = precision_score(y_test, Y_pred,average='micro')\n",
    "recall = recall_score(y_test, Y_pred,average='micro')\n",
    "f1 = f1_score(y_test,Y_pred,average='micro')\n",
    "print('Confusion matrix for SVC\\n', cm)\n",
    "print('accuracy_SVC: %.3f' %accuracy)\n",
    "print('precision_SVC: %.3f' %precision)\n",
    "print('recall_SVC: %.3f' %recall)\n",
    "print('f1-score_SVC : %.3f' %f1)"
   ]
  },
  {
   "cell_type": "code",
   "execution_count": 14,
   "metadata": {},
   "outputs": [
    {
     "name": "stdout",
     "output_type": "stream",
     "text": [
      "Confusion matrix for KNN\n",
      " [[ 43   0   1]\n",
      " [  0   7   2]\n",
      " [ 20   3 184]]\n",
      "accuracy_KNN : 0.900\n",
      "precision_KNN : 0.900\n",
      "recall_KNN: 0.900\n",
      "f1-score_KNN : 0.900\n"
     ]
    }
   ],
   "source": [
    "knn = KNeighborsClassifier(n_neighbors = 3)\n",
    "knn.fit(X_train, y_train)\n",
    "Y_pred = knn.predict(X_test) \n",
    "accuracy_knn=round(accuracy_score(y_test,Y_pred)* 100, 2)\n",
    "acc_knn = round(knn.score(X_train, y_train) * 100, 2)\n",
    "\n",
    "cm = confusion_matrix(y_test, Y_pred)\n",
    "accuracy = accuracy_score(y_test,Y_pred)\n",
    "precision = precision_score(y_test, Y_pred,average='micro')\n",
    "recall = recall_score(y_test, Y_pred,average='micro')\n",
    "f1 = f1_score(y_test,Y_pred,average='micro')\n",
    "print('Confusion matrix for KNN\\n',cm)\n",
    "print('accuracy_KNN : %.3f' %accuracy)\n",
    "print('precision_KNN : %.3f' %precision)\n",
    "print('recall_KNN: %.3f' %recall)\n",
    "print('f1-score_KNN : %.3f' %f1)"
   ]
  },
  {
   "cell_type": "code",
   "execution_count": 15,
   "metadata": {},
   "outputs": [
    {
     "data": {
      "text/html": [
       "<div>\n",
       "<style scoped>\n",
       "    .dataframe tbody tr th:only-of-type {\n",
       "        vertical-align: middle;\n",
       "    }\n",
       "\n",
       "    .dataframe tbody tr th {\n",
       "        vertical-align: top;\n",
       "    }\n",
       "\n",
       "    .dataframe thead th {\n",
       "        text-align: right;\n",
       "    }\n",
       "</style>\n",
       "<table border=\"1\" class=\"dataframe\">\n",
       "  <thead>\n",
       "    <tr style=\"text-align: right;\">\n",
       "      <th></th>\n",
       "      <th>Model</th>\n",
       "      <th>Score</th>\n",
       "      <th>Accuracy_score</th>\n",
       "    </tr>\n",
       "  </thead>\n",
       "  <tbody>\n",
       "    <tr>\n",
       "      <th>0</th>\n",
       "      <td>KNN</td>\n",
       "      <td>99.53</td>\n",
       "      <td>90.00</td>\n",
       "    </tr>\n",
       "    <tr>\n",
       "      <th>1</th>\n",
       "      <td>Logistic Regression</td>\n",
       "      <td>96.82</td>\n",
       "      <td>70.77</td>\n",
       "    </tr>\n",
       "    <tr>\n",
       "      <th>2</th>\n",
       "      <td>Naive Bayes</td>\n",
       "      <td>95.84</td>\n",
       "      <td>85.77</td>\n",
       "    </tr>\n",
       "    <tr>\n",
       "      <th>3</th>\n",
       "      <td>Support Vector Machine</td>\n",
       "      <td>91.73</td>\n",
       "      <td>63.85</td>\n",
       "    </tr>\n",
       "  </tbody>\n",
       "</table>\n",
       "</div>"
      ],
      "text/plain": [
       "                     Model  Score  Accuracy_score\n",
       "0                      KNN  99.53           90.00\n",
       "1      Logistic Regression  96.82           70.77\n",
       "2              Naive Bayes  95.84           85.77\n",
       "3   Support Vector Machine  91.73           63.85"
      ]
     },
     "execution_count": 15,
     "metadata": {},
     "output_type": "execute_result"
    }
   ],
   "source": [
    "results = pd.DataFrame({\n",
    "    'Model': [ 'KNN', \n",
    "              'Logistic Regression',\n",
    "              'Naive Bayes',  \n",
    "              ' Support Vector Machine'],\n",
    "    'Score': [ acc_knn,\n",
    "              acc_log,\n",
    "              acc_gaussian,  \n",
    "              acc_linear_svc],\n",
    "    \"Accuracy_score\":[accuracy_knn,\n",
    "                      accuracy_lr,\n",
    "                      accuracy_nb,\n",
    "                      accuracy_svc\n",
    "                     ]})\n",
    "result_df = results.sort_values(by='Accuracy_score', ascending=False)\n",
    "result_df = results.reset_index(drop=True)\n",
    "result_df.head(9)"
   ]
  },
  {
   "cell_type": "markdown",
   "metadata": {},
   "source": [
    "Dikarenakan datanya imbalanced, maka akan dilakukan over sampling terhadap data class label yang minoritas"
   ]
  },
  {
   "cell_type": "markdown",
   "metadata": {},
   "source": [
    "## Tuning Hyperparameter"
   ]
  },
  {
   "cell_type": "code",
   "execution_count": 16,
   "metadata": {},
   "outputs": [],
   "source": [
    "# Tuning menggunakan GridSearchCV\n",
    "from sklearn.model_selection import GridSearchCV"
   ]
  },
  {
   "cell_type": "markdown",
   "metadata": {},
   "source": [
    "#### Tuning KNN"
   ]
  },
  {
   "cell_type": "code",
   "execution_count": 17,
   "metadata": {},
   "outputs": [
    {
     "name": "stdout",
     "output_type": "stream",
     "text": [
      "Best leaf_size: 1\n",
      "Best p: 1\n",
      "Best n_neighbors: 1\n"
     ]
    }
   ],
   "source": [
    "#List Hyperparameters that we want to tune\n",
    "leaf_size = list(range(1,5))\n",
    "n_neighbors = list(range(1,15))\n",
    "p=[1,2]\n",
    "\n",
    "#Convert to dictionary\n",
    "hyperparameters = dict(leaf_size=leaf_size, n_neighbors=n_neighbors, p=p)\n",
    "\n",
    "#Create new KNN object\n",
    "knn_2 = KNeighborsClassifier()\n",
    "\n",
    "#Use GridSearch\n",
    "clf = GridSearchCV(knn_2, hyperparameters, cv=10)\n",
    "\n",
    "#Fit the model\n",
    "best_model = clf.fit(X_train, y_train)\n",
    "\n",
    "#Print The value of best Hyperparameters\n",
    "print('Best leaf_size:', best_model.best_estimator_.get_params()['leaf_size'])\n",
    "print('Best p:', best_model.best_estimator_.get_params()['p'])\n",
    "print('Best n_neighbors:', best_model.best_estimator_.get_params()['n_neighbors'])"
   ]
  },
  {
   "cell_type": "markdown",
   "metadata": {},
   "source": [
    "Hasil dari Hyperparameter KNN di atas di implementasikan dalam model"
   ]
  },
  {
   "cell_type": "code",
   "execution_count": 18,
   "metadata": {},
   "outputs": [
    {
     "name": "stdout",
     "output_type": "stream",
     "text": [
      "Confusion matrix for KNN\n",
      " [[ 42   0   2]\n",
      " [  0   7   2]\n",
      " [ 11   5 191]]\n",
      "accuracy_KNN : 0.923\n",
      "precision_KNN : 0.923\n",
      "recall_KNN: 0.923\n",
      "f1-score_KNN : 0.923\n"
     ]
    }
   ],
   "source": [
    "knn_3 = KNeighborsClassifier(n_neighbors = 1, leaf_size = 1, p = 1)\n",
    "knn_3.fit(X_train, y_train)\n",
    "Y_pred = knn_3.predict(X_test) \n",
    "accuracy_knn_3=round(accuracy_score(y_test,Y_pred)* 100, 2)\n",
    "acc_knn_3 = round(knn_3.score(X_train, y_train) * 100, 2)\n",
    "\n",
    "cm = confusion_matrix(y_test, Y_pred)\n",
    "accuracy = accuracy_score(y_test,Y_pred)\n",
    "precision = precision_score(y_test, Y_pred,average='micro')\n",
    "recall = recall_score(y_test, Y_pred,average='micro')\n",
    "f1 = f1_score(y_test,Y_pred,average='micro')\n",
    "print('Confusion matrix for KNN\\n',cm)\n",
    "print('accuracy_KNN : %.3f' %accuracy)\n",
    "print('precision_KNN : %.3f' %precision)\n",
    "print('recall_KNN: %.3f' %recall)\n",
    "print('f1-score_KNN : %.3f' %f1)"
   ]
  },
  {
   "cell_type": "markdown",
   "metadata": {},
   "source": [
    "#### Tuning Logistic Regression"
   ]
  },
  {
   "cell_type": "code",
   "execution_count": 19,
   "metadata": {},
   "outputs": [
    {
     "name": "stdout",
     "output_type": "stream",
     "text": [
      "Best Penalty: l2\n",
      "Best C: 0.012742749857031334\n"
     ]
    }
   ],
   "source": [
    "#List Hyperparameters yang akan diuji\n",
    "penalty = ['l1', 'l2']\n",
    "C = np.logspace(-4,4,20)\n",
    "#Menjadikan ke dalam bentuk dictionary\n",
    "hyperparameters = dict(penalty=penalty, C=C)\n",
    "#Membuat Object Logistic Regression\n",
    "logreg = LogisticRegression(solver= 'lbfgs',max_iter=400)\n",
    "#Memasukan ke Grid Search\n",
    "#CV itu Cross Validation\n",
    "#Menggunakan 10-Fold CV\n",
    "clf = GridSearchCV(logreg, hyperparameters, cv=10)\n",
    "#Fitting Model\n",
    "best_model = clf.fit(X_train,y_train)\n",
    "#Nilai hyperparameters terbaik\n",
    "print('Best Penalty:', best_model.best_estimator_.get_params()['penalty'])\n",
    "print('Best C:', best_model.best_estimator_.get_params()['C'])"
   ]
  },
  {
   "cell_type": "markdown",
   "metadata": {},
   "source": [
    "Hasil dari Hyperparameter Logistic Regression di atas di implementasikan dalam model"
   ]
  },
  {
   "cell_type": "code",
   "execution_count": 20,
   "metadata": {},
   "outputs": [
    {
     "name": "stdout",
     "output_type": "stream",
     "text": [
      "Confusion matrix for Logistic Regression\n",
      " [[ 44   0   0]\n",
      " [  0   9   0]\n",
      " [ 50   0 157]]\n",
      "accuracy_Logistic Regression : 0.808\n",
      "precision_Logistic Regression : 0.808\n",
      "recall_Logistic Regression: 0.808\n",
      "f1-score_Logistic Regression : 0.808\n"
     ]
    }
   ],
   "source": [
    "logreg3 = LogisticRegression(solver= 'lbfgs',max_iter=400, penalty='l2', C=0.012742749857031334)\n",
    "logreg3.fit(X_train, y_train)\n",
    "Y_pred = logreg3.predict(X_test)\n",
    "accuracy_lr3=round(accuracy_score(y_test,Y_pred)* 100, 2)\n",
    "acc_log3 = round(logreg3.score(X_train, y_train) * 100, 2)\n",
    "\n",
    "\n",
    "cm = confusion_matrix(y_test, Y_pred)\n",
    "accuracy = accuracy_score(y_test,Y_pred)\n",
    "precision = precision_score(y_test, Y_pred,average='micro')\n",
    "recall = recall_score(y_test, Y_pred,average='micro')\n",
    "f1 = f1_score(y_test,Y_pred,average='micro')\n",
    "print('Confusion matrix for Logistic Regression\\n',cm)\n",
    "print('accuracy_Logistic Regression : %.3f' %accuracy)\n",
    "print('precision_Logistic Regression : %.3f' %precision)\n",
    "print('recall_Logistic Regression: %.3f' %recall)\n",
    "print('f1-score_Logistic Regression : %.3f' %f1)"
   ]
  },
  {
   "cell_type": "markdown",
   "metadata": {},
   "source": [
    "#### Tuning Gaussian Naive Bayes"
   ]
  },
  {
   "cell_type": "code",
   "execution_count": 21,
   "metadata": {},
   "outputs": [
    {
     "name": "stdout",
     "output_type": "stream",
     "text": [
      "Fitting 10 folds for each of 100 candidates, totalling 1000 fits\n",
      "GaussianNB(var_smoothing=0.0012328467394420659)\n"
     ]
    }
   ],
   "source": [
    "param_grid_nb = {\n",
    "    'var_smoothing': np.logspace(0,-9, num=100)\n",
    "}\n",
    "\n",
    "nbModel_grid = GridSearchCV(estimator=GaussianNB(), param_grid=param_grid_nb, verbose=1, cv=10, n_jobs=-1)\n",
    "nbModel_grid.fit(X_train, y_train)\n",
    "print(nbModel_grid.best_estimator_)"
   ]
  },
  {
   "cell_type": "markdown",
   "metadata": {},
   "source": [
    "Hasil dari Hyperparameter Gaussian Naive Bayes di atas di implementasikan dalam model"
   ]
  },
  {
   "cell_type": "code",
   "execution_count": 22,
   "metadata": {},
   "outputs": [
    {
     "name": "stdout",
     "output_type": "stream",
     "text": [
      "Confusion matrix for Naive Bayes\n",
      " [[ 41   0   3]\n",
      " [  0   8   1]\n",
      " [ 21   2 184]]\n",
      "accuracy_Naive Bayes: 0.896\n",
      "precision_Naive Bayes: 0.896\n",
      "recall_Naive Bayes: 0.896\n",
      "f1-score_Naive Bayes : 0.896\n"
     ]
    }
   ],
   "source": [
    "gaussian3 = GaussianNB(var_smoothing=0.0012328467394420659)\n",
    "gaussian3.fit(X_train, y_train)\n",
    "Y_pred = gaussian3.predict(X_test) \n",
    "accuracy_nb3=round(accuracy_score(y_test,Y_pred)* 100, 2)\n",
    "acc_gaussian3 = round(gaussian3.score(X_train, y_train) * 100, 2)\n",
    "\n",
    "cm = confusion_matrix(y_test, Y_pred)\n",
    "accuracy = accuracy_score(y_test,Y_pred)\n",
    "precision = precision_score(y_test, Y_pred,average='micro')\n",
    "recall =  recall_score(y_test, Y_pred,average='micro')\n",
    "f1 = f1_score(y_test,Y_pred,average='micro')\n",
    "print('Confusion matrix for Naive Bayes\\n',cm)\n",
    "print('accuracy_Naive Bayes: %.3f' %accuracy)\n",
    "print('precision_Naive Bayes: %.3f' %precision)\n",
    "print('recall_Naive Bayes: %.3f' %recall)\n",
    "print('f1-score_Naive Bayes : %.3f' %f1)"
   ]
  },
  {
   "cell_type": "code",
   "execution_count": 23,
   "metadata": {},
   "outputs": [
    {
     "data": {
      "text/html": [
       "<div>\n",
       "<style scoped>\n",
       "    .dataframe tbody tr th:only-of-type {\n",
       "        vertical-align: middle;\n",
       "    }\n",
       "\n",
       "    .dataframe tbody tr th {\n",
       "        vertical-align: top;\n",
       "    }\n",
       "\n",
       "    .dataframe thead th {\n",
       "        text-align: right;\n",
       "    }\n",
       "</style>\n",
       "<table border=\"1\" class=\"dataframe\">\n",
       "  <thead>\n",
       "    <tr style=\"text-align: right;\">\n",
       "      <th></th>\n",
       "      <th>Model</th>\n",
       "      <th>Score</th>\n",
       "      <th>Accuracy_score</th>\n",
       "      <th>Score after Tuning</th>\n",
       "      <th>Accuracy_score after tuning</th>\n",
       "    </tr>\n",
       "  </thead>\n",
       "  <tbody>\n",
       "    <tr>\n",
       "      <th>0</th>\n",
       "      <td>KNN</td>\n",
       "      <td>99.53</td>\n",
       "      <td>90.00</td>\n",
       "      <td>100.0</td>\n",
       "      <td>92.31</td>\n",
       "    </tr>\n",
       "    <tr>\n",
       "      <th>1</th>\n",
       "      <td>Logistic Regression</td>\n",
       "      <td>96.82</td>\n",
       "      <td>70.77</td>\n",
       "      <td>98.9</td>\n",
       "      <td>80.77</td>\n",
       "    </tr>\n",
       "    <tr>\n",
       "      <th>2</th>\n",
       "      <td>Naive Bayes</td>\n",
       "      <td>95.84</td>\n",
       "      <td>85.77</td>\n",
       "      <td>96.06</td>\n",
       "      <td>89.62</td>\n",
       "    </tr>\n",
       "    <tr>\n",
       "      <th>3</th>\n",
       "      <td>Support Vector Machine</td>\n",
       "      <td>91.73</td>\n",
       "      <td>63.85</td>\n",
       "      <td></td>\n",
       "      <td></td>\n",
       "    </tr>\n",
       "  </tbody>\n",
       "</table>\n",
       "</div>"
      ],
      "text/plain": [
       "                     Model  Score  Accuracy_score Score after Tuning  \\\n",
       "0                      KNN  99.53           90.00              100.0   \n",
       "1      Logistic Regression  96.82           70.77               98.9   \n",
       "2              Naive Bayes  95.84           85.77              96.06   \n",
       "3   Support Vector Machine  91.73           63.85                      \n",
       "\n",
       "  Accuracy_score after tuning  \n",
       "0                       92.31  \n",
       "1                       80.77  \n",
       "2                       89.62  \n",
       "3                              "
      ]
     },
     "execution_count": 23,
     "metadata": {},
     "output_type": "execute_result"
    }
   ],
   "source": [
    "results = pd.DataFrame({\n",
    "    'Model': [ 'KNN', \n",
    "              'Logistic Regression',\n",
    "              'Naive Bayes',  \n",
    "              ' Support Vector Machine'],\n",
    "    'Score': [ acc_knn,\n",
    "              acc_log,\n",
    "              acc_gaussian,  \n",
    "              acc_linear_svc],\n",
    "    \"Accuracy_score\":[accuracy_knn,\n",
    "                      accuracy_lr,\n",
    "                      accuracy_nb,\n",
    "                      accuracy_svc],\n",
    "    \"Score after Tuning\":[acc_knn_3,\n",
    "                          acc_log3,\n",
    "                          acc_gaussian3,  \n",
    "                          ''],\n",
    "    \"Accuracy_score after tuning\":[accuracy_knn_3,\n",
    "                      accuracy_lr3,\n",
    "                      accuracy_nb3,\n",
    "                      ''\n",
    "                     ]})\n",
    "result_df = results.sort_values(by='Accuracy_score', ascending=False)\n",
    "result_df = results.reset_index(drop=True)\n",
    "result_df.head(9)"
   ]
  },
  {
   "cell_type": "code",
   "execution_count": null,
   "metadata": {},
   "outputs": [],
   "source": []
  }
 ],
 "metadata": {
  "kernelspec": {
   "display_name": "Python 3 (ipykernel)",
   "language": "python",
   "name": "python3"
  },
  "language_info": {
   "codemirror_mode": {
    "name": "ipython",
    "version": 3
   },
   "file_extension": ".py",
   "mimetype": "text/x-python",
   "name": "python",
   "nbconvert_exporter": "python",
   "pygments_lexer": "ipython3",
   "version": "3.8.5"
  }
 },
 "nbformat": 4,
 "nbformat_minor": 4
}
